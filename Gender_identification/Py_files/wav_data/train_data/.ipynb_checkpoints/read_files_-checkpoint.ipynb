{
 "cells": [
  {
   "cell_type": "code",
   "execution_count": null,
   "id": "96d409a3",
   "metadata": {},
   "outputs": [],
   "source": [
    "import os\n",
    "from scipy.io import wavfile\n",
    "\n",
    "def find_duplicates(your_path):\n",
    "    # определение текущей рабочей директории\n",
    "    path = your_path    \n",
    "    # чтение записей\n",
    "    with os.scandir(path) as listOfEntries:  \n",
    "        for entry in listOfEntries:\n",
    "            # проверка вхождения подстроки в строку и печать всех записей, являющихся файлами \n",
    "            if entry.is_file():            \n",
    "                samplerate, data= wavfile.read(entry.name)"
   ]
  }
 ],
 "metadata": {
  "kernelspec": {
   "display_name": "Python 3 (ipykernel)",
   "language": "python",
   "name": "python3"
  },
  "language_info": {
   "codemirror_mode": {
    "name": "ipython",
    "version": 3
   },
   "file_extension": ".py",
   "mimetype": "text/x-python",
   "name": "python",
   "nbconvert_exporter": "python",
   "pygments_lexer": "ipython3",
   "version": "3.9.7"
  }
 },
 "nbformat": 4,
 "nbformat_minor": 5
}
